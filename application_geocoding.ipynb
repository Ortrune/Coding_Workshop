{
 "cells": [
  {
   "cell_type": "markdown",
   "metadata": {},
   "source": [
    "# Application - Geocoding"
   ]
  },
  {
   "cell_type": "markdown",
   "metadata": {},
   "source": [
    "In this application lesson, we are going to go over how to quickly and easily <b>geocode</b> addresses using Python/Pandas. "
   ]
  },
  {
   "cell_type": "markdown",
   "metadata": {},
   "source": [
    "The Department of City Planning maintains a geocoding application called Geosupport Desktop Edition that you can download and use to query and geocode addresses, BBLs, or BINs. It can be found at the following link:\n",
    "http://www1.nyc.gov/site/planning/data-maps/open-data/dwn-gde-home.page. They also have an online interface version that lets you query addresses one-by-one: \n",
    "http://a030-goat.nyc.gov/goat/Default.aspx."
   ]
  },
  {
   "cell_type": "markdown",
   "metadata": {},
   "source": [
    "In addition, the Department of Information Technology and Telecommunications has built a Geoclient API that essentially allows you to query the geocoding service manually. In order to use this API, you must first register for an account and request an API key. This can be done at the following link:\n",
    "https://developer.cityofnewyork.us/api/geoclient-api."
   ]
  },
  {
   "cell_type": "markdown",
   "metadata": {},
   "source": [
    "To make things easier, John Krauss over at CARTO wrote Python bindings for DoITT’s Geoclient API that allows for very easy querying using Python. You still need to sign up for an API key using the link above. The GitHub repository for John Krauss’ Geoclient Python bindings can be found here:\n",
    "https://github.com/talos/nyc-geoclient."
   ]
  },
  {
   "cell_type": "markdown",
   "metadata": {},
   "source": [
    "Finally, Deena Patel at MODA has written a few functions for both the DCP Geosupport Desktop Edition and John Krauss’ Geoclient bindings that allow for easy usage and querying with a Pandas DataFrame. Her GitHub repository can be found here:\n",
    "https://github.com/deenapatel/geocode."
   ]
  },
  {
   "cell_type": "markdown",
   "metadata": {},
   "source": [
    "For today's lesson we are going to use the two GitHub repositories listed above. We will first look at John Krauss' Python bindings, and then see how Deena's functions can be used to make the geocoding process even easier."
   ]
  },
  {
   "cell_type": "markdown",
   "metadata": {},
   "source": [
    "First, let's import Pandas"
   ]
  },
  {
   "cell_type": "code",
   "execution_count": 1,
   "metadata": {
    "collapsed": false
   },
   "outputs": [],
   "source": [
    "import pandas as pd"
   ]
  },
  {
   "cell_type": "markdown",
   "metadata": {},
   "source": [
    "Next, we'll read in some test data"
   ]
  },
  {
   "cell_type": "code",
   "execution_count": 2,
   "metadata": {
    "collapsed": true
   },
   "outputs": [],
   "source": [
    "data = pd.read_excel('test_geo.xlsx')"
   ]
  },
  {
   "cell_type": "markdown",
   "metadata": {},
   "source": [
    "Let's look at our new data."
   ]
  },
  {
   "cell_type": "code",
   "execution_count": 3,
   "metadata": {
    "collapsed": false
   },
   "outputs": [
    {
     "data": {
      "text/html": [
       "<div>\n",
       "<table border=\"1\" class=\"dataframe\">\n",
       "  <thead>\n",
       "    <tr style=\"text-align: right;\">\n",
       "      <th></th>\n",
       "      <th>Boro ID</th>\n",
       "      <th>Boro Full Name</th>\n",
       "      <th>House Number</th>\n",
       "      <th>Street Name</th>\n",
       "    </tr>\n",
       "  </thead>\n",
       "  <tbody>\n",
       "    <tr>\n",
       "      <th>0</th>\n",
       "      <td>1</td>\n",
       "      <td>Manhattan</td>\n",
       "      <td>175</td>\n",
       "      <td>Eldridge Street</td>\n",
       "    </tr>\n",
       "    <tr>\n",
       "      <th>1</th>\n",
       "      <td>1</td>\n",
       "      <td>Manhattan</td>\n",
       "      <td>241</td>\n",
       "      <td>West 26th Street</td>\n",
       "    </tr>\n",
       "    <tr>\n",
       "      <th>2</th>\n",
       "      <td>4</td>\n",
       "      <td>Queens</td>\n",
       "      <td>39-39</td>\n",
       "      <td>Crescent Street</td>\n",
       "    </tr>\n",
       "    <tr>\n",
       "      <th>3</th>\n",
       "      <td>3</td>\n",
       "      <td>Brooklyn</td>\n",
       "      <td>333</td>\n",
       "      <td>Willoughby Avenue</td>\n",
       "    </tr>\n",
       "    <tr>\n",
       "      <th>4</th>\n",
       "      <td>2</td>\n",
       "      <td>Bronx</td>\n",
       "      <td>1214</td>\n",
       "      <td>Sheridan Avenue</td>\n",
       "    </tr>\n",
       "  </tbody>\n",
       "</table>\n",
       "</div>"
      ],
      "text/plain": [
       "   Boro ID Boro Full Name House Number        Street Name\n",
       "0        1      Manhattan          175    Eldridge Street\n",
       "1        1      Manhattan          241   West 26th Street\n",
       "2        4         Queens        39-39    Crescent Street\n",
       "3        3       Brooklyn          333  Willoughby Avenue\n",
       "4        2          Bronx         1214    Sheridan Avenue"
      ]
     },
     "execution_count": 3,
     "metadata": {},
     "output_type": "execute_result"
    }
   ],
   "source": [
    "data"
   ]
  },
  {
   "cell_type": "markdown",
   "metadata": {},
   "source": [
    "Note that our data contains the fields Boro ID, Boro Full Name, House Number, and Street Name, but no BBL or BIN. Let's change that!"
   ]
  },
  {
   "cell_type": "markdown",
   "metadata": {},
   "source": [
    "First, let's import the nyc_geoclient package that we downloaded from John Krauss' GitHub repo."
   ]
  },
  {
   "cell_type": "code",
   "execution_count": 4,
   "metadata": {
    "collapsed": true
   },
   "outputs": [],
   "source": [
    "from nyc_geoclient import Geoclient"
   ]
  },
  {
   "cell_type": "markdown",
   "metadata": {},
   "source": [
    "Next, make sure to input your geoclient API name and key. To make things easy, let's just use mine."
   ]
  },
  {
   "cell_type": "code",
   "execution_count": 5,
   "metadata": {
    "collapsed": false
   },
   "outputs": [],
   "source": [
    "g = Geoclient('a812bc2d', 'geoclient')"
   ]
  },
  {
   "cell_type": "markdown",
   "metadata": {
    "collapsed": false
   },
   "source": [
    "The nyc_geoclient package has now stored our information and can use it to query the online API."
   ]
  },
  {
   "cell_type": "markdown",
   "metadata": {},
   "source": [
    "To use this package, all we have to do is input the address and borough of a particular residence. Let's try this on the first entry of our DataFrame."
   ]
  },
  {
   "cell_type": "code",
   "execution_count": 6,
   "metadata": {
    "collapsed": false,
    "scrolled": false
   },
   "outputs": [
    {
     "data": {
      "text/plain": [
       "{u'assemblyDistrict': u'57',\n",
       " u'bbl': u'3019130101',\n",
       " u'bblBoroughCode': u'3',\n",
       " u'bblTaxBlock': u'01913',\n",
       " u'bblTaxLot': u'0101',\n",
       " u'bikeLane': u'2',\n",
       " u'boardOfElectionsPreferredLgc': u'1',\n",
       " u'boePreferredStreetName': u'WILLOUGHBY AVENUE',\n",
       " u'boePreferredstreetCode': u'39323001',\n",
       " u'boroughCode1In': u'3',\n",
       " u'buildingIdentificationNumber': u'3394434',\n",
       " u'censusBlock2000': u'1001',\n",
       " u'censusBlock2010': u'2001',\n",
       " u'censusTract1990': u' 235  ',\n",
       " u'censusTract2000': u' 235  ',\n",
       " u'censusTract2010': u' 235  ',\n",
       " u'cityCouncilDistrict': u'33',\n",
       " u'civilCourtDistrict': u'03',\n",
       " u'coincidentSegmentCount': u'1',\n",
       " u'communityDistrict': u'303',\n",
       " u'communityDistrictBoroughCode': u'3',\n",
       " u'communityDistrictNumber': u'03',\n",
       " u'communitySchoolDistrict': u'14',\n",
       " u'condominiumBillingBbl': u'0000000000',\n",
       " u'congressionalDistrict': u'08',\n",
       " u'cooperativeIdNumber': u'0000',\n",
       " u'cornerCode': u'NE',\n",
       " u'crossStreetNamesFlagIn': u'E',\n",
       " u'dcpPreferredLgc': u'01',\n",
       " u'dotStreetLightContractorArea': u'3',\n",
       " u'dynamicBlock': u'102',\n",
       " u'electionDistrict': u'019',\n",
       " u'fireBattalion': u'57',\n",
       " u'fireCompanyNumber': u'230',\n",
       " u'fireCompanyType': u'E',\n",
       " u'fireDivision': u'11',\n",
       " u'firstBoroughName': u'BROOKLYN',\n",
       " u'firstStreetCode': u'39323001010',\n",
       " u'firstStreetNameNormalized': u'WILLOUGHBY AVENUE',\n",
       " u'fromLionNodeId': u'0019545',\n",
       " u'fromPreferredLgcsFirstSetOf5': u'01',\n",
       " u'genericId': u'0055928',\n",
       " u'geosupportFunctionCode': u'1B',\n",
       " u'geosupportReturnCode': u'00',\n",
       " u'geosupportReturnCode2': u'00',\n",
       " u'gi5DigitStreetCode1': u'93230',\n",
       " u'gi5DigitStreetCode2': u'41930',\n",
       " u'giBoroughCode1': u'3',\n",
       " u'giBoroughCode2': u'3',\n",
       " u'giBuildingIdentificationNumber1': u'3394434',\n",
       " u'giBuildingIdentificationNumber2': u'3394434',\n",
       " u'giDcpPreferredLgc1': u'01',\n",
       " u'giDcpPreferredLgc2': u'01',\n",
       " u'giHighHouseNumber1': u'333',\n",
       " u'giHighHouseNumber2': u'195',\n",
       " u'giLowHouseNumber1': u'333',\n",
       " u'giLowHouseNumber2': u'193',\n",
       " u'giSideOfStreetIndicator1': u'L',\n",
       " u'giSideOfStreetIndicator2': u'L',\n",
       " u'giStreetCode1': u'39323001',\n",
       " u'giStreetCode2': u'34193001',\n",
       " u'giStreetName1': u'WILLOUGHBY AVENUE',\n",
       " u'giStreetName2': u'FRANKLIN AVENUE',\n",
       " u'healthArea': u'1410',\n",
       " u'healthCenterDistrict': u'36',\n",
       " u'highBblOfThisBuildingsCondominiumUnits': u'3019130101',\n",
       " u'highCrossStreetB5SC1': u'377530',\n",
       " u'highCrossStreetCode1': u'37753001',\n",
       " u'highCrossStreetName1': u'SKILLMAN STREET',\n",
       " u'highHouseNumberOfBlockfaceSortFormat': u'000351000AA',\n",
       " u'houseNumber': u'333',\n",
       " u'houseNumberIn': u'333',\n",
       " u'houseNumberSortFormat': u'000333000AA',\n",
       " u'hurricaneEvacuationZone': u'X',\n",
       " u'instructionalRegion': u'BN',\n",
       " u'interimAssistanceEligibilityIndicator': u'E',\n",
       " u'internalLabelXCoordinate': u'0996014',\n",
       " u'internalLabelYCoordinate': u'0191742',\n",
       " u'latitude': 40.69280269188318,\n",
       " u'latitudeInternalLabel': 40.69295641088643,\n",
       " u'legacySegmentId': u'0030643',\n",
       " u'lionBoroughCode': u'3',\n",
       " u'lionBoroughCodeForVanityAddress': u'3',\n",
       " u'lionFaceCode': u'8632',\n",
       " u'lionFaceCodeForVanityAddress': u'8632',\n",
       " u'lionKey': u'3863200170',\n",
       " u'lionKeyForVanityAddress': u'3863200170',\n",
       " u'lionSequenceNumber': u'00170',\n",
       " u'lionSequenceNumberForVanityAddress': u'00170',\n",
       " u'listOf4Lgcs': u'01',\n",
       " u'longitude': -73.95754582204388,\n",
       " u'longitudeInternalLabel': -73.95757817880869,\n",
       " u'lowBblOfThisBuildingsCondominiumUnits': u'3019130101',\n",
       " u'lowCrossStreetB5SC1': u'341930',\n",
       " u'lowCrossStreetCode1': u'34193001',\n",
       " u'lowCrossStreetName1': u'FRANKLIN AVENUE',\n",
       " u'lowHouseNumberOfBlockfaceSortFormat': u'000333000AA',\n",
       " u'lowHouseNumberOfDefiningAddressRange': u'000333000AA',\n",
       " u'nta': u'BK69',\n",
       " u'ntaName': u'Clinton Hill',\n",
       " u'numberOfCrossStreetB5SCsHighAddressEnd': u'1',\n",
       " u'numberOfCrossStreetB5SCsLowAddressEnd': u'1',\n",
       " u'numberOfCrossStreetsHighAddressEnd': u'1',\n",
       " u'numberOfCrossStreetsLowAddressEnd': u'1',\n",
       " u'numberOfEntriesInListOfGeographicIdentifiers': u'0002',\n",
       " u'numberOfExistingStructuresOnLot': u'0001',\n",
       " u'numberOfStreetFrontagesOfLot': u'02',\n",
       " u'physicalId': u'0063833',\n",
       " u'policePatrolBoroughCommand': u'5',\n",
       " u'policePrecinct': u'079',\n",
       " u'returnCode1a': u'00',\n",
       " u'returnCode1e': u'00',\n",
       " u'roadwayType': u'1',\n",
       " u'rpadBuildingClassificationCode': u'C0',\n",
       " u'rpadSelfCheckCodeForBbl': u'9',\n",
       " u'sanbornBoroughCode': u'3',\n",
       " u'sanbornPageNumber': u'050',\n",
       " u'sanbornVolumeNumber': u'03',\n",
       " u'sanitationCollectionSchedulingSectionAndSubsection': u'1A',\n",
       " u'sanitationDistrict': u'303',\n",
       " u'sanitationRecyclingCollectionSchedule': u'EW',\n",
       " u'sanitationRegularCollectionSchedule': u'MWF',\n",
       " u'sanitationSnowPriorityCode': u'S',\n",
       " u'segmentAzimuth': u'008',\n",
       " u'segmentIdentifier': u'0030643',\n",
       " u'segmentLengthInFeet': u'00255',\n",
       " u'segmentOrientation': u'E',\n",
       " u'segmentTypeCode': u'U',\n",
       " u'sideOfStreetIndicator': u'L',\n",
       " u'sideOfStreetOfVanityAddress': u'L',\n",
       " u'splitLowHouseNumber': u'000333000AA',\n",
       " u'stateSenatorialDistrict': u'25',\n",
       " u'streetName1In': u'WILLOUGHBY AVENUE',\n",
       " u'streetStatus': u'2',\n",
       " u'streetWidth': u'34',\n",
       " u'taxMapNumberSectionAndVolume': u'30701',\n",
       " u'toLionNodeId': u'0019646',\n",
       " u'toPreferredLgcsFirstSetOf5': u'01',\n",
       " u'trafficDirection': u'W',\n",
       " u'underlyingStreetCode': u'39323001',\n",
       " u'uspsPreferredCityName': u'BROOKLYN',\n",
       " u'workAreaFormatIndicatorIn': u'C',\n",
       " u'xCoordinate': u'0996023',\n",
       " u'xCoordinateHighAddressEnd': u'0996237',\n",
       " u'xCoordinateLowAddressEnd': u'0995986',\n",
       " u'xCoordinateOfCenterofCurvature': u'0000000',\n",
       " u'yCoordinate': u'0191686',\n",
       " u'yCoordinateHighAddressEnd': u'0191716',\n",
       " u'yCoordinateLowAddressEnd': u'0191677',\n",
       " u'yCoordinateOfCenterofCurvature': u'0000000',\n",
       " u'zipCode': u'11205'}"
      ]
     },
     "execution_count": 6,
     "metadata": {},
     "output_type": "execute_result"
    }
   ],
   "source": [
    "g.address('333', 'Willoughby Avenue', 'Brooklyn')"
   ]
  },
  {
   "cell_type": "markdown",
   "metadata": {},
   "source": [
    "As you can see, the function returns a LOT of information. The information is returned in the form of a <b>dictionary</b>."
   ]
  },
  {
   "cell_type": "markdown",
   "metadata": {},
   "source": [
    "<b>Dictionaries</b> are sort of similar to DataFrames in that they store information that you can access via <b>keys</b> (similar to DataFrame columns)."
   ]
  },
  {
   "cell_type": "markdown",
   "metadata": {},
   "source": [
    "For example, the first <b>key</b> of the dictionary above is 'assemblyDistrict', and the associated value is '57'."
   ]
  },
  {
   "cell_type": "markdown",
   "metadata": {},
   "source": [
    "If I were to store the function call above in a variable:"
   ]
  },
  {
   "cell_type": "code",
   "execution_count": 7,
   "metadata": {
    "collapsed": false
   },
   "outputs": [],
   "source": [
    "geocode_variable = g.address('333', 'Willoughby Avenue', 'Brooklyn')"
   ]
  },
  {
   "cell_type": "markdown",
   "metadata": {},
   "source": [
    "I could then search for the value of a particular key:"
   ]
  },
  {
   "cell_type": "code",
   "execution_count": 8,
   "metadata": {
    "collapsed": false
   },
   "outputs": [
    {
     "data": {
      "text/plain": [
       "u'57'"
      ]
     },
     "execution_count": 8,
     "metadata": {},
     "output_type": "execute_result"
    }
   ],
   "source": [
    "geocode_variable['assemblyDistrict']"
   ]
  },
  {
   "cell_type": "markdown",
   "metadata": {},
   "source": [
    "We can already see that this function is quite good at geocoding individual addresses, but what about an entire DataFrame of addresses? We could try throwing everything into a loop and geocoding things one by one, but then reformatting the output might be a hassle to deal with. Fortunately for us, Deena has already written a very efficient function to do all of this work for us."
   ]
  },
  {
   "cell_type": "markdown",
   "metadata": {},
   "source": [
    "Let's import her downloaded function."
   ]
  },
  {
   "cell_type": "code",
   "execution_count": 9,
   "metadata": {
    "collapsed": true
   },
   "outputs": [],
   "source": [
    "from geoclient import geoclientBatch"
   ]
  },
  {
   "cell_type": "markdown",
   "metadata": {},
   "source": [
    "To use it, all we have to do is provide the name of our DataFrame, and then the names of our columns that correspond to \"House Number\", \"Street Name\", and \"Boro ID\"."
   ]
  },
  {
   "cell_type": "code",
   "execution_count": 10,
   "metadata": {
    "collapsed": true
   },
   "outputs": [],
   "source": [
    "result = geoclientBatch(data, houseNo='House Number', street='Street Name', boro='Boro ID')"
   ]
  },
  {
   "cell_type": "code",
   "execution_count": 11,
   "metadata": {
    "collapsed": false
   },
   "outputs": [
    {
     "data": {
      "text/html": [
       "<div>\n",
       "<table border=\"1\" class=\"dataframe\">\n",
       "  <thead>\n",
       "    <tr style=\"text-align: right;\">\n",
       "      <th></th>\n",
       "      <th>Boro ID</th>\n",
       "      <th>Boro Full Name</th>\n",
       "      <th>House Number</th>\n",
       "      <th>Street Name</th>\n",
       "      <th>geocodedBBL</th>\n",
       "      <th>geocodedBIN</th>\n",
       "    </tr>\n",
       "  </thead>\n",
       "  <tbody>\n",
       "    <tr>\n",
       "      <th>0</th>\n",
       "      <td>1</td>\n",
       "      <td>Manhattan</td>\n",
       "      <td>175</td>\n",
       "      <td>Eldridge Street</td>\n",
       "      <td>1004200062</td>\n",
       "      <td>1005602</td>\n",
       "    </tr>\n",
       "    <tr>\n",
       "      <th>1</th>\n",
       "      <td>1</td>\n",
       "      <td>Manhattan</td>\n",
       "      <td>241</td>\n",
       "      <td>West 26th Street</td>\n",
       "      <td>1007760012</td>\n",
       "      <td>1014230</td>\n",
       "    </tr>\n",
       "    <tr>\n",
       "      <th>2</th>\n",
       "      <td>4</td>\n",
       "      <td>Queens</td>\n",
       "      <td>39-39</td>\n",
       "      <td>Crescent Street</td>\n",
       "      <td>4003960005</td>\n",
       "      <td>4004786</td>\n",
       "    </tr>\n",
       "    <tr>\n",
       "      <th>3</th>\n",
       "      <td>3</td>\n",
       "      <td>Brooklyn</td>\n",
       "      <td>333</td>\n",
       "      <td>Willoughby Avenue</td>\n",
       "      <td>3019130101</td>\n",
       "      <td>3394434</td>\n",
       "    </tr>\n",
       "    <tr>\n",
       "      <th>4</th>\n",
       "      <td>2</td>\n",
       "      <td>Bronx</td>\n",
       "      <td>1214</td>\n",
       "      <td>Sheridan Avenue</td>\n",
       "      <td>2024530003</td>\n",
       "      <td>2002684</td>\n",
       "    </tr>\n",
       "  </tbody>\n",
       "</table>\n",
       "</div>"
      ],
      "text/plain": [
       "   Boro ID Boro Full Name House Number        Street Name geocodedBBL  \\\n",
       "0        1      Manhattan          175    Eldridge Street  1004200062   \n",
       "1        1      Manhattan          241   West 26th Street  1007760012   \n",
       "2        4         Queens        39-39    Crescent Street  4003960005   \n",
       "3        3       Brooklyn          333  Willoughby Avenue  3019130101   \n",
       "4        2          Bronx         1214    Sheridan Avenue  2024530003   \n",
       "\n",
       "  geocodedBIN  \n",
       "0     1005602  \n",
       "1     1014230  \n",
       "2     4004786  \n",
       "3     3394434  \n",
       "4     2002684  "
      ]
     },
     "execution_count": 11,
     "metadata": {},
     "output_type": "execute_result"
    }
   ],
   "source": [
    "result"
   ]
  },
  {
   "cell_type": "markdown",
   "metadata": {},
   "source": [
    "There you have it! A fully geocoded DataFrame in only a couple of seconds. "
   ]
  },
  {
   "cell_type": "markdown",
   "metadata": {},
   "source": [
    "These functions are actually much more flexible and powerful than we've seen here. Deena's function is only currently written to accept street address and return BBL and BIN, but in reality it can be modified to return any geographic information based on any set of inputtedd address, BBL, or BIN. "
   ]
  }
 ],
 "metadata": {
  "kernelspec": {
   "display_name": "Python 2",
   "language": "python",
   "name": "python2"
  },
  "language_info": {
   "codemirror_mode": {
    "name": "ipython",
    "version": 2
   },
   "file_extension": ".py",
   "mimetype": "text/x-python",
   "name": "python",
   "nbconvert_exporter": "python",
   "pygments_lexer": "ipython2",
   "version": "2.7.12"
  }
 },
 "nbformat": 4,
 "nbformat_minor": 0
}
